{
  "cells": [
    {
      "cell_type": "markdown",
      "metadata": {
        "id": "view-in-github",
        "colab_type": "text"
      },
      "source": [
        "<a href=\"https://colab.research.google.com/github/Arnav-Barman/LearningPython/blob/main/WriteFile_Python.ipynb\" target=\"_parent\"><img src=\"https://colab.research.google.com/assets/colab-badge.svg\" alt=\"Open In Colab\"/></a>"
      ]
    },
    {
      "cell_type": "markdown",
      "metadata": {
        "id": "cXy2lYtfGYnh"
      },
      "source": [
        "# Write and Save Files in Python\n",
        "\n",
        "Estimated time needed: **25** minutes\n",
        "\n",
        "## Objectives\n",
        "\n",
        "After completing this lab you will be able to:\n",
        "\n",
        "*   Write to files using Python libraries\n",
        "---\n"
      ]
    },
    {
      "cell_type": "markdown",
      "metadata": {
        "id": "u5KKSy98GYnl"
      },
      "source": [
        "<h2 id=\"write\">Writing Files</h2>\n"
      ]
    },
    {
      "cell_type": "markdown",
      "metadata": {
        "id": "IxVbk7ffGYnl"
      },
      "source": [
        "We can open a file object using the method <code>write()</code> to save the text file to a list. To write to a file, the mode argument must be set to **w**. Let’s write a file **Example2.txt** with the line: **“This is line A”**\n"
      ]
    },
    {
      "cell_type": "code",
      "execution_count": 7,
      "metadata": {
        "id": "rCqMp34-GYnm"
      },
      "outputs": [],
      "source": [
        "# Write line to file\n",
        "exmp2 = 'Example2.txt'\n",
        "with open(exmp2, 'w') as writefile:\n",
        "    writefile.write(\"This is line A\")"
      ]
    },
    {
      "cell_type": "markdown",
      "metadata": {
        "id": "BdDroYwMGYnn"
      },
      "source": [
        "We can read the file to see if it worked:\n"
      ]
    },
    {
      "cell_type": "code",
      "execution_count": 8,
      "metadata": {
        "id": "V9FhBkFiGYnn",
        "colab": {
          "base_uri": "https://localhost:8080/"
        },
        "outputId": "76785ccc-c523-40d2-8577-8ee6c9b51ac1"
      },
      "outputs": [
        {
          "output_type": "stream",
          "name": "stdout",
          "text": [
            "This is line A\n"
          ]
        }
      ],
      "source": [
        "# Read file\n",
        "\n",
        "with open(exmp2, 'r') as testwritefile:\n",
        "    print(testwritefile.read())"
      ]
    },
    {
      "cell_type": "markdown",
      "metadata": {
        "id": "toi85A7iGYno"
      },
      "source": [
        "We can write multiple lines:\n"
      ]
    },
    {
      "cell_type": "code",
      "execution_count": 9,
      "metadata": {
        "id": "-DviR6axGYno"
      },
      "outputs": [],
      "source": [
        "# Write lines to file\n",
        "\n",
        "with open(exmp2, 'w') as writefile:\n",
        "    writefile.write(\"This is line A\\n\")\n",
        "    writefile.write(\"This is line B\\n\")"
      ]
    },
    {
      "cell_type": "markdown",
      "metadata": {
        "id": "Qhjm_W1OGYnp"
      },
      "source": [
        "The method <code>.write()</code> works similar to the method <code>.readline()</code>, except instead of reading a new line it writes a new line. The process is illustrated in the figure. The different colour coding of the grid represents a new line added to the file after each method call.\n"
      ]
    },
    {
      "cell_type": "markdown",
      "metadata": {
        "id": "gbavJ3ZwGYnp"
      },
      "source": [
        "<img src=\"https://cf-courses-data.s3.us.cloud-object-storage.appdomain.cloud/IBMDeveloperSkillsNetwork-PY0101EN-SkillsNetwork/labs/Module%204/images/WriteLine.png\" width=\"500\" />\n"
      ]
    },
    {
      "cell_type": "markdown",
      "metadata": {
        "id": "WlpHOUtJGYnp"
      },
      "source": [
        "You can check the file to see if your results are correct\n"
      ]
    },
    {
      "cell_type": "code",
      "execution_count": 10,
      "metadata": {
        "id": "OmMzqwT3GYnp",
        "colab": {
          "base_uri": "https://localhost:8080/"
        },
        "outputId": "19e0f142-275d-4aff-c66a-08cb7ce33155"
      },
      "outputs": [
        {
          "output_type": "stream",
          "name": "stdout",
          "text": [
            "This is line A\n",
            "This is line B\n",
            "\n"
          ]
        }
      ],
      "source": [
        "# Check whether write to file\n",
        "\n",
        "with open(exmp2, 'r') as testwritefile:\n",
        "    print(testwritefile.read())"
      ]
    },
    {
      "cell_type": "markdown",
      "metadata": {
        "id": "C5rEHdsBGYnq"
      },
      "source": [
        "We write a list to a **.txt** file  as follows:\n"
      ]
    },
    {
      "cell_type": "code",
      "execution_count": 11,
      "metadata": {
        "id": "lgR40ugBGYnq",
        "colab": {
          "base_uri": "https://localhost:8080/"
        },
        "outputId": "df48428d-eab5-40e8-9abd-b839276f2650"
      },
      "outputs": [
        {
          "output_type": "execute_result",
          "data": {
            "text/plain": [
              "['This is line A\\n', 'This is line B\\n', 'This is line C\\n']"
            ]
          },
          "metadata": {},
          "execution_count": 11
        }
      ],
      "source": [
        "# Sample list of text\n",
        "\n",
        "Lines = [\"This is line A\\n\", \"This is line B\\n\", \"This is line C\\n\"]\n",
        "Lines"
      ]
    },
    {
      "cell_type": "code",
      "execution_count": 12,
      "metadata": {
        "id": "At-emYx_GYnq",
        "colab": {
          "base_uri": "https://localhost:8080/"
        },
        "outputId": "c166e675-cdb0-41b3-fbcd-76f77831e66f"
      },
      "outputs": [
        {
          "output_type": "stream",
          "name": "stdout",
          "text": [
            "This is line A\n",
            "\n",
            "This is line B\n",
            "\n",
            "This is line C\n",
            "\n"
          ]
        }
      ],
      "source": [
        "# Write the strings in the list to text file\n",
        "\n",
        "with open('Example2.txt', 'w') as writefile:\n",
        "    for line in Lines:\n",
        "        print(line)\n",
        "        writefile.write(line)"
      ]
    },
    {
      "cell_type": "markdown",
      "metadata": {
        "id": "gHXCVBAeGYnr"
      },
      "source": [
        "We can verify the file is written by reading it and printing out the values:\n"
      ]
    },
    {
      "cell_type": "code",
      "execution_count": 13,
      "metadata": {
        "id": "ChBscADGGYnr",
        "colab": {
          "base_uri": "https://localhost:8080/"
        },
        "outputId": "dbc0a6b2-ae2b-4788-f31a-00b3befcb5de"
      },
      "outputs": [
        {
          "output_type": "stream",
          "name": "stdout",
          "text": [
            "This is line A\n",
            "This is line B\n",
            "This is line C\n",
            "\n"
          ]
        }
      ],
      "source": [
        "# Verify if writing to file is successfully executed\n",
        "\n",
        "with open('Example2.txt', 'r') as testwritefile:\n",
        "    print(testwritefile.read())"
      ]
    },
    {
      "cell_type": "markdown",
      "metadata": {
        "id": "9D_Ke6SNGYns"
      },
      "source": [
        "However, note that setting the mode to **w** overwrites all the existing data in the file.\n"
      ]
    },
    {
      "cell_type": "code",
      "execution_count": 14,
      "metadata": {
        "id": "TCSWcfIUGYns",
        "colab": {
          "base_uri": "https://localhost:8080/"
        },
        "outputId": "58eb2984-35fc-43a1-babc-2a29074d96fa"
      },
      "outputs": [
        {
          "output_type": "stream",
          "name": "stdout",
          "text": [
            "Overwrite\n",
            "\n"
          ]
        }
      ],
      "source": [
        "with open('Example2.txt', 'w') as writefile:\n",
        "    writefile.write(\"Overwrite\\n\")\n",
        "with open('Example2.txt', 'r') as testwritefile:\n",
        "    print(testwritefile.read())"
      ]
    },
    {
      "cell_type": "markdown",
      "metadata": {
        "id": "_096aDrnGYns"
      },
      "source": [
        "<hr>\n",
        "<h2 id=\"Append\">Appending Files</h2>\n"
      ]
    },
    {
      "cell_type": "markdown",
      "metadata": {
        "id": "sw_97TJBGYns"
      },
      "source": [
        "We can write to files without losing any of the existing data as follows by setting the mode argument to append: **a**.  you can append a new line as follows:\n"
      ]
    },
    {
      "cell_type": "code",
      "execution_count": 15,
      "metadata": {
        "id": "LUfxA_O4GYns"
      },
      "outputs": [],
      "source": [
        "# Write a new line to text file\n",
        "\n",
        "with open('Example2.txt', 'a') as testwritefile:\n",
        "    testwritefile.write(\"This is line C\\n\")\n",
        "    testwritefile.write(\"This is line D\\n\")\n",
        "    testwritefile.write(\"This is line E\\n\")"
      ]
    },
    {
      "cell_type": "markdown",
      "metadata": {
        "id": "-ZfSCoX_GYnt"
      },
      "source": [
        "You can verify the file has changed by running the following cell:\n"
      ]
    },
    {
      "cell_type": "code",
      "execution_count": 16,
      "metadata": {
        "id": "_ok3zQU3GYnt",
        "colab": {
          "base_uri": "https://localhost:8080/"
        },
        "outputId": "4d03c213-58a6-4aad-f228-536ea971bdf3"
      },
      "outputs": [
        {
          "output_type": "stream",
          "name": "stdout",
          "text": [
            "Overwrite\n",
            "This is line C\n",
            "This is line D\n",
            "This is line E\n",
            "\n"
          ]
        }
      ],
      "source": [
        "# Verify if the new line is in the text file\n",
        "\n",
        "with open('Example2.txt', 'r') as testwritefile:\n",
        "    print(testwritefile.read())"
      ]
    },
    {
      "cell_type": "markdown",
      "metadata": {
        "id": "Yd2EBtiKGYnt"
      },
      "source": [
        "<hr>\n",
        "<h2 id=\"add\">Additional modes</h2> \n"
      ]
    },
    {
      "cell_type": "markdown",
      "metadata": {
        "id": "iY6JPweYGYnt"
      },
      "source": [
        "It's fairly ineffecient to open the file in **a** or **w** and then reopening it in **r** to read any lines. Luckily we can access the file in the following modes:\n",
        "\n",
        "*   **r+** : Reading and writing. Cannot truncate the file.\n",
        "*   **w+** : Writing and reading. Truncates the file.\n",
        "*   **a+** : Appending and Reading. Creates a new file, if none exists.\n",
        "\n",
        "You dont have to dwell on the specifics of each mode for this lab.\n"
      ]
    },
    {
      "cell_type": "markdown",
      "metadata": {
        "id": "ITn2-L8UGYnu"
      },
      "source": [
        "Let's try out the **a+** mode:\n"
      ]
    },
    {
      "cell_type": "code",
      "execution_count": 17,
      "metadata": {
        "id": "PeKYg6FFGYnu",
        "colab": {
          "base_uri": "https://localhost:8080/"
        },
        "outputId": "cd902e74-39e6-4212-dea0-76ec0c93f712"
      },
      "outputs": [
        {
          "output_type": "stream",
          "name": "stdout",
          "text": [
            "\n"
          ]
        }
      ],
      "source": [
        "with open('Example2.txt', 'a+') as testwritefile:\n",
        "    testwritefile.write(\"This is line E\\n\")\n",
        "    print(testwritefile.read())\n",
        "    \n",
        "  #read the reason for no output below"
      ]
    },
    {
      "cell_type": "markdown",
      "metadata": {
        "id": "cimBnH2oGYnu"
      },
      "source": [
        "**There were no errors but <code>read()</code> also did not output anything. This is because of our location in the file.**\n"
      ]
    },
    {
      "cell_type": "markdown",
      "metadata": {
        "id": "Yano8J7fGYnu"
      },
      "source": [
        "Most of the file methods we've looked at work in a certain location in the file. <code>.write() </code> writes at a certain location in the file. <code>.read()</code> reads at a certain location in the file and so on. You can think of this as moving your pointer around in the notepad to make changes at specific location.\n"
      ]
    },
    {
      "cell_type": "markdown",
      "metadata": {
        "id": "INBYIw4yGYnu"
      },
      "source": [
        "Opening the file in **w** is akin to opening the .txt file, moving your cursor to the beginning of the text file, writing new text and deleting everything that follows.\n",
        "Whereas opening the file in **a** is similiar to opening the .txt file, moving your cursor to the very end and then adding the new pieces of text. <br>\n",
        "It is often very useful to know where the 'cursor' is in a file and be able to control it. The following methods allow us to do precisely this -\n",
        "\n",
        "*   <code>.tell()</code> - returns the current position in bytes\n",
        "*   <code>.seek(offset,from)</code> - changes the position by 'offset' bytes with respect to 'from'. From can take the value of 0,1,2 corresponding to beginning, relative to current position and end\n"
      ]
    },
    {
      "cell_type": "markdown",
      "metadata": {
        "id": "fY6fOLbPGYnu"
      },
      "source": [
        "Now lets revisit **a+**\n"
      ]
    },
    {
      "cell_type": "code",
      "execution_count": 18,
      "metadata": {
        "id": "ZaDbFv7IGYnv",
        "colab": {
          "base_uri": "https://localhost:8080/"
        },
        "outputId": "ff654b54-1bdd-4e9d-b8d4-9b0bd95f5e28"
      },
      "outputs": [
        {
          "output_type": "stream",
          "name": "stdout",
          "text": [
            "Initial Location: 70\n",
            "Read nothing\n",
            "\n",
            "New Location : 0\n",
            "Overwrite\n",
            "This is line C\n",
            "This is line D\n",
            "This is line E\n",
            "This is line E\n",
            "\n",
            "Location after read: 70\n"
          ]
        }
      ],
      "source": [
        "with open('Example2.txt', 'a+') as testwritefile:\n",
        "    print(\"Initial Location: {}\".format(testwritefile.tell()))\n",
        "    \n",
        "    data = testwritefile.read()\n",
        "    if (not data):  #empty strings return false in python\n",
        "            print('Read nothing') \n",
        "    else: \n",
        "            print(testwritefile.read())\n",
        "            \n",
        "    testwritefile.seek(0,0) # move 0 bytes from beginning.\n",
        "    \n",
        "    print(\"\\nNew Location : {}\".format(testwritefile.tell()))\n",
        "    data = testwritefile.read()\n",
        "    if (not data): \n",
        "            print('Read nothing') \n",
        "    else: \n",
        "            print(data)\n",
        "    \n",
        "    print(\"Location after read: {}\".format(testwritefile.tell()) )"
      ]
    },
    {
      "cell_type": "markdown",
      "metadata": {
        "id": "H9H-KWQZGYnv"
      },
      "source": [
        "Finally, a note on the difference between **w+** and **r+**. Both of these modes allow access to read and write methods, however, opening a file in **w+** overwrites it and deletes all pre-existing data. <br>\n",
        "To work with a file on existing data, use **r+** and **a+**. While using **r+**, it can be useful to add a <code>.truncate()</code> method at the end of your data. This will reduce the file to your data and delete everything that follows. <br>\n",
        "In the following code block, Run the code as it is first and then run it with the <code>.truncate()</code>.\n"
      ]
    },
    {
      "cell_type": "code",
      "execution_count": 20,
      "metadata": {
        "id": "EOTP5dj-GYnv",
        "colab": {
          "base_uri": "https://localhost:8080/"
        },
        "outputId": "710edb91-9b90-41e7-8f5f-62563163fa87"
      },
      "outputs": [
        {
          "output_type": "stream",
          "name": "stdout",
          "text": [
            "Line 1\n",
            "Line 2\n",
            "Line 3\n",
            "finished\n",
            "\n"
          ]
        }
      ],
      "source": [
        "with open('Example2.txt', 'r+') as testwritefile:\n",
        "    data = testwritefile.readlines()\n",
        "    testwritefile.seek(0,0) #write at beginning of file\n",
        "   \n",
        "    testwritefile.write(\"Line 1\" + \"\\n\")\n",
        "    testwritefile.write(\"Line 2\" + \"\\n\")\n",
        "    testwritefile.write(\"Line 3\" + \"\\n\")\n",
        "    testwritefile.write(\"finished\\n\")\n",
        "    ##Uncomment the line below\n",
        "    testwritefile.truncate()\n",
        "    testwritefile.seek(0,0)\n",
        "    print(testwritefile.read())\n",
        "    "
      ]
    },
    {
      "cell_type": "markdown",
      "metadata": {
        "id": "3i76nTMLGYnv"
      },
      "source": [
        "<hr>\n"
      ]
    },
    {
      "cell_type": "markdown",
      "metadata": {
        "id": "g9NrG08mGYnw"
      },
      "source": [
        "<h2 id=\"copy\">Copy a File</h2> \n"
      ]
    },
    {
      "cell_type": "markdown",
      "metadata": {
        "id": "82UpgdoJGYnw"
      },
      "source": [
        "Let's copy the file **Example2.txt** to the file **Example3.txt**:\n"
      ]
    },
    {
      "cell_type": "code",
      "execution_count": 21,
      "metadata": {
        "id": "8snrA3hbGYnw"
      },
      "outputs": [],
      "source": [
        "# Copy file to another\n",
        "\n",
        "with open('Example2.txt','r') as readfile:\n",
        "    with open('Example3.txt','w') as writefile:\n",
        "          for line in readfile:\n",
        "                writefile.write(line)"
      ]
    },
    {
      "cell_type": "markdown",
      "metadata": {
        "id": "AxY0729eGYnw"
      },
      "source": [
        "We can read the file to see if everything works:\n"
      ]
    },
    {
      "cell_type": "code",
      "execution_count": 22,
      "metadata": {
        "id": "iN5ED-U8GYnw",
        "colab": {
          "base_uri": "https://localhost:8080/"
        },
        "outputId": "21b369c7-6639-4018-eec8-e531ec583e09"
      },
      "outputs": [
        {
          "output_type": "stream",
          "name": "stdout",
          "text": [
            "Line 1\n",
            "Line 2\n",
            "Line 3\n",
            "finished\n",
            "\n"
          ]
        }
      ],
      "source": [
        "# Verify if the copy is successfully executed\n",
        "\n",
        "with open('Example3.txt','r') as testwritefile:\n",
        "    print(testwritefile.read())"
      ]
    },
    {
      "cell_type": "markdown",
      "metadata": {
        "id": "TtZIy8S3GYnx"
      },
      "source": [
        "After reading files, we can also write data into files and save them in different file formats like **.txt, .csv, .xls (for excel files) etc**. You will come across these in further examples\n"
      ]
    },
    {
      "cell_type": "markdown",
      "metadata": {
        "id": "2jcEw5VIGYnx"
      },
      "source": [
        "Now go to the directory to ensure the **.txt** file exists and contains the summary data that we wrote.\n"
      ]
    },
    {
      "cell_type": "markdown",
      "metadata": {
        "id": "STB7-XHGGYnx"
      },
      "source": [
        "<hr>\n"
      ]
    },
    {
      "cell_type": "markdown",
      "metadata": {
        "id": "LKj8B4YoGYnx"
      },
      "source": [
        "<h2> Exercise </h2>\n"
      ]
    },
    {
      "cell_type": "markdown",
      "metadata": {
        "id": "b77phwGzGYnx"
      },
      "source": [
        "Your local university's Raptors fan club maintains a register of its active members on a .txt document. Every month they update the file by removing the members who are not active. You have been tasked with automating this with your Python skills. <br>\n",
        "Given the file `currentMem`, Remove each member with a 'no' in their Active column. Keep track of each of the removed members and append them to the `exMem` file. Make sure that the format of the original files in preserved.   (*Hint: Do this by reading/writing whole lines and ensuring the header remains* ) <br>\n",
        "Run the code block below prior to starting the exercise. The skeleton code has been provided for you. Edit only the `cleanFiles` function.\n"
      ]
    },
    {
      "cell_type": "code",
      "execution_count": 23,
      "metadata": {
        "id": "s6AjyCDIGYnx"
      },
      "outputs": [],
      "source": [
        "#Run this prior to starting the exercise\n",
        "from random import randint as rnd\n",
        "\n",
        "memReg = 'members.txt'\n",
        "exReg = 'inactive.txt'\n",
        "fee =('yes','no')\n",
        "\n",
        "def genFiles(current,old):\n",
        "    with open(current,'w+') as writefile: \n",
        "        writefile.write('Membership No  Date Joined  Active  \\n')\n",
        "        data = \"{:^13}  {:<11}  {:<6}\\n\"\n",
        "\n",
        "        for rowno in range(20):\n",
        "            date = str(rnd(2015,2020))+ '-' + str(rnd(1,12))+'-'+str(rnd(1,25))\n",
        "            writefile.write(data.format(rnd(10000,99999),date,fee[rnd(0,1)]))\n",
        "\n",
        "\n",
        "    with open(old,'w+') as writefile: \n",
        "        writefile.write('Membership No  Date Joined  Active  \\n')\n",
        "        data = \"{:^13}  {:<11}  {:<6}\\n\"\n",
        "        for rowno in range(3):\n",
        "            date = str(rnd(2015,2020))+ '-' + str(rnd(1,12))+'-'+str(rnd(1,25))\n",
        "            writefile.write(data.format(rnd(10000,99999),date,fee[1]))\n",
        "\n",
        "\n",
        "genFiles(memReg,exReg)\n"
      ]
    },
    {
      "cell_type": "markdown",
      "metadata": {
        "id": "jLR0qkn6GYny"
      },
      "source": [
        "Now that you've run the prerequisite code cell above, which prepared the files for this exercise, you are ready to move on to the implementation.\n",
        "\n",
        "#### **Exercise:** Implement the cleanFiles function in the code cell below.\n"
      ]
    },
    {
      "cell_type": "code",
      "execution_count": 27,
      "metadata": {
        "id": "wVJTXJbnGYny",
        "colab": {
          "base_uri": "https://localhost:8080/"
        },
        "outputId": "15fab407-9a50-4163-e314-9d8d07cbf94a"
      },
      "outputs": [
        {
          "output_type": "stream",
          "name": "stdout",
          "text": [
            "Active Members: \n",
            "\n",
            "\n",
            "Membership No  Date Joined  Active  \n",
            "    11985      2019-8-17    yes   \n",
            "    25505      2015-11-25   yes   \n",
            "    93187      2020-11-24   yes   \n",
            "    72014      2016-8-6     yes   \n",
            "    74719      2017-8-8     yes   \n",
            "    87887      2016-6-25    yes   \n",
            "    32377      2015-6-23    yes   \n",
            "    63292      2019-9-5     yes   \n",
            "    28943      2020-2-8     yes   \n",
            "\n",
            "Inactive Members: \n",
            "\n",
            "\n",
            "Membership No  Date Joined  Active  \n",
            "    39499      2017-10-22   no    \n",
            "    65598      2019-6-13    no    \n",
            "    62703      2015-7-19    no    \n",
            "    60660      2018-2-13    no    \n",
            "    29792      2018-6-12    no    \n",
            "    89956      2019-8-12    no    \n",
            "    65882      2020-7-3     no    \n",
            "    23933      2016-6-10    no    \n",
            "    33595      2016-3-7     no    \n",
            "    98705      2019-2-22    no    \n",
            "    75402      2016-6-12    no    \n",
            "    43804      2018-2-11    no    \n",
            "    54820      2018-6-25    no    \n",
            "    82382      2020-4-12    no    \n",
            "\n"
          ]
        }
      ],
      "source": [
        "  \n",
        "'''\n",
        "The two arguments for this function are the files:\n",
        "    - currentMem: File containing list of current members\n",
        "    - exMem: File containing list of old members\n",
        "    \n",
        "    This function should remove all rows from currentMem containing 'no' \n",
        "    in the 'Active' column and appends them to exMem.\n",
        "    '''\n",
        "def cleanFiles(currentMem, exMem):\n",
        "    with open(currentMem,'r+') as cF:\n",
        "      with open(exMem,'a+') as eF:\n",
        "        cF.seek(0,0)\n",
        "        fileData = cF.readlines()\n",
        "        header = fileData[0]\n",
        "        fileData.pop(0)\n",
        "        inactiveData = []\n",
        "        for data in fileData:\n",
        "          if 'no' in data:\n",
        "            inactiveData.append(data)\n",
        "        cF.seek(0,0)\n",
        "        cF.write(header)\n",
        "        for data in fileData:\n",
        "          if data in inactiveData:\n",
        "            eF.write(data)\n",
        "          else:\n",
        "            cF.write(data)\n",
        "          cF.truncate()\n",
        "\n",
        "memReg = 'members.txt'\n",
        "exReg = 'inactive.txt'\n",
        "cleanFiles(memReg,exReg)\n",
        "\n",
        "\n",
        "headers = \"Membership No  Date Joined  Active  \\n\"\n",
        "with open(memReg,'r') as readFile:\n",
        "    print(\"Active Members: \\n\\n\")\n",
        "    print(readFile.read())\n",
        "    \n",
        "with open(exReg,'r') as readFile:\n",
        "    print(\"Inactive Members: \\n\\n\")\n",
        "    print(readFile.read())\n",
        "                \n",
        "    "
      ]
    },
    {
      "cell_type": "markdown",
      "metadata": {
        "id": "EsIPImKMGYny"
      },
      "source": [
        "The code cell below is to verify your solution. Please do not modify the code and run it to test your implementation of `cleanFiles`.\n"
      ]
    },
    {
      "cell_type": "code",
      "execution_count": 28,
      "metadata": {
        "id": "eGVlfH-_GYny",
        "colab": {
          "base_uri": "https://localhost:8080/"
        },
        "outputId": "5fcad569-aa97-4e21-adc0-7cea5cb25396"
      },
      "outputs": [
        {
          "output_type": "stream",
          "name": "stdout",
          "text": [
            "Test Passed\n"
          ]
        }
      ],
      "source": [
        "def testMsg(passed):\n",
        "    if passed:\n",
        "       return 'Test Passed'\n",
        "    else :\n",
        "       return 'Test Failed'\n",
        "\n",
        "testWrite = \"testWrite.txt\"\n",
        "testAppend = \"testAppend.txt\" \n",
        "passed = True\n",
        "\n",
        "genFiles(testWrite,testAppend)\n",
        "\n",
        "with open(testWrite,'r') as file:\n",
        "    ogWrite = file.readlines()\n",
        "\n",
        "with open(testAppend,'r') as file:\n",
        "    ogAppend = file.readlines()\n",
        "\n",
        "try:\n",
        "    cleanFiles(testWrite,testAppend)\n",
        "except:\n",
        "    print('Error')\n",
        "\n",
        "with open(testWrite,'r') as file:\n",
        "    clWrite = file.readlines()\n",
        "\n",
        "with open(testAppend,'r') as file:\n",
        "    clAppend = file.readlines()\n",
        "        \n",
        "# checking if total no of rows is same, including headers\n",
        "\n",
        "if (len(ogWrite) + len(ogAppend) != len(clWrite) + len(clAppend)):\n",
        "    print(\"The number of rows do not add up. Make sure your final files have the same header and format.\")\n",
        "    passed = False\n",
        "    \n",
        "for line in clWrite:\n",
        "    if  'no' in line:\n",
        "        passed = False\n",
        "        print(\"Inactive members in file\")\n",
        "        break\n",
        "    else:\n",
        "        if line not in ogWrite:\n",
        "            print(\"Data in file does not match original file\")\n",
        "            passed = False\n",
        "print (\"{}\".format(testMsg(passed)))\n",
        "    \n",
        "\n"
      ]
    },
    {
      "cell_type": "markdown",
      "metadata": {
        "id": "_N6sl0n0GYnz"
      },
      "source": [
        "<details><summary>Click here for the solution</summary>\n",
        "\n",
        "```python\n",
        "def cleanFiles(currentMem,exMem):\n",
        "    with open(currentMem,'r+') as writeFile: \n",
        "        with open(exMem,'a+') as appendFile:\n",
        "            #get the data\n",
        "            writeFile.seek(0)\n",
        "            members = writeFile.readlines()\n",
        "            #remove header\n",
        "            header = members[0]\n",
        "            members.pop(0)\n",
        "                \n",
        "            inactive = [member for member in members if ('no' in member)]\n",
        "            '''\n",
        "            The above is the same as \n",
        "\n",
        "            for member in members:\n",
        "            if 'no' in member:\n",
        "                inactive.append(member)\n",
        "            '''\n",
        "            #go to the beginning of the write file\n",
        "            writeFile.seek(0) \n",
        "            writeFile.write(header)\n",
        "            for member in members:\n",
        "                if (member in inactive):\n",
        "                    appendFile.write(member)\n",
        "                else:\n",
        "                    writeFile.write(member)      \n",
        "            writeFile.truncate()\n",
        "                \n",
        "memReg = 'members.txt'\n",
        "exReg = 'inactive.txt'\n",
        "cleanFiles(memReg,exReg)\n",
        "\n",
        "# code to help you see the files\n",
        "\n",
        "headers = \"Membership No  Date Joined  Active  \\n\"\n",
        "\n",
        "with open(memReg,'r') as readFile:\n",
        "    print(\"Active Members: \\n\\n\")\n",
        "    print(readFile.read())\n",
        "    \n",
        "with open(exReg,'r') as readFile:\n",
        "    print(\"Inactive Members: \\n\\n\")\n",
        "    print(readFile.read())\n",
        "    \n",
        "```\n",
        "\n",
        "</details>\n"
      ]
    }
  ],
  "metadata": {
    "interpreter": {
      "hash": "aee8b7b246df8f9039afb4144a1f6fd8d2ca17a180786b69acc140d282b71a49"
    },
    "kernelspec": {
      "display_name": "Python 3.9.4 64-bit",
      "name": "python3"
    },
    "language_info": {
      "codemirror_mode": {
        "name": "ipython",
        "version": 3
      },
      "file_extension": ".py",
      "mimetype": "text/x-python",
      "name": "python",
      "nbconvert_exporter": "python",
      "pygments_lexer": "ipython3",
      "version": "3.9.4"
    },
    "colab": {
      "name": "WriteFile_Python.ipynb",
      "provenance": [],
      "collapsed_sections": [],
      "include_colab_link": true
    }
  },
  "nbformat": 4,
  "nbformat_minor": 0
}