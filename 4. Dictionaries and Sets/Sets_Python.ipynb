{
  "cells": [
    {
      "cell_type": "markdown",
      "metadata": {
        "id": "view-in-github",
        "colab_type": "text"
      },
      "source": [
        "<a href=\"https://colab.research.google.com/github/Arnav-Barman/LearningPython/blob/main/Sets_Python.ipynb\" target=\"_parent\"><img src=\"https://colab.research.google.com/assets/colab-badge.svg\" alt=\"Open In Colab\"/></a>"
      ]
    },
    {
      "cell_type": "markdown",
      "metadata": {
        "id": "O36KfiJp3knX"
      },
      "source": [
        "# Sets in Python\n",
        "\n",
        "Estimated time needed: **20** minutes\n",
        "\n",
        "## Objectives\n",
        "\n",
        "After completing this lab you will be able to:\n",
        "\n",
        "*   Work with sets in Python, including operations and logic operations.\n",
        "---"
      ]
    },
    {
      "cell_type": "markdown",
      "metadata": {
        "id": "kIfX1SPW3knc"
      },
      "source": [
        "<h2 id=\"set\">Sets</h2>\n"
      ]
    },
    {
      "cell_type": "markdown",
      "metadata": {
        "id": "6x2CwmqA3knd"
      },
      "source": [
        "<h3 id=\"content\">Set Content</h3>\n"
      ]
    },
    {
      "cell_type": "markdown",
      "metadata": {
        "id": "4cCjvhxz3knd"
      },
      "source": [
        "A set is a unique collection of objects in Python. You can denote a set with a pair of curly brackets <b>{}</b>. Python will automatically remove duplicate items:\n"
      ]
    },
    {
      "cell_type": "code",
      "execution_count": 1,
      "metadata": {
        "colab": {
          "base_uri": "https://localhost:8080/"
        },
        "id": "BE0Rxt4u3kne",
        "outputId": "1b0d4764-b899-477b-e384-a7e8a3b16ceb"
      },
      "outputs": [
        {
          "output_type": "execute_result",
          "data": {
            "text/plain": [
              "{'R&B', 'disco', 'hard rock', 'pop', 'rock', 'soul'}"
            ]
          },
          "metadata": {},
          "execution_count": 1
        }
      ],
      "source": [
        "# Create a set\n",
        "\n",
        "set1 = {\"pop\", \"rock\", \"soul\", \"hard rock\", \"rock\", \"R&B\", \"rock\", \"disco\"}\n",
        "set1"
      ]
    },
    {
      "cell_type": "markdown",
      "metadata": {
        "id": "wotaC8lV3knf"
      },
      "source": [
        "The process of mapping is illustrated in the figure:\n"
      ]
    },
    {
      "cell_type": "markdown",
      "metadata": {
        "id": "GOJS_-ya3kng"
      },
      "source": [
        "<img src=\"https://cf-courses-data.s3.us.cloud-object-storage.appdomain.cloud/IBMDeveloperSkillsNetwork-PY0101EN-SkillsNetwork/labs/Module%202/images/SetsUnique.png\" width=\"1100\" />\n"
      ]
    },
    {
      "cell_type": "markdown",
      "metadata": {
        "id": "JJe26WCI3kng"
      },
      "source": [
        "You can also  create a set from a list as follows:\n"
      ]
    },
    {
      "cell_type": "code",
      "execution_count": 2,
      "metadata": {
        "scrolled": true,
        "colab": {
          "base_uri": "https://localhost:8080/"
        },
        "id": "4SaZyWEG3knh",
        "outputId": "d831bb5d-6910-437f-c695-8c58d9c60a93"
      },
      "outputs": [
        {
          "output_type": "execute_result",
          "data": {
            "text/plain": [
              "{'00:42:19',\n",
              " 10.0,\n",
              " 1982,\n",
              " '30-Nov-82',\n",
              " 46.0,\n",
              " 65,\n",
              " 'Michael Jackson',\n",
              " None,\n",
              " 'Pop, Rock, R&B',\n",
              " 'Thriller'}"
            ]
          },
          "metadata": {},
          "execution_count": 2
        }
      ],
      "source": [
        "# Convert list to set\n",
        "\n",
        "album_list = [ \"Michael Jackson\", \"Thriller\", 1982, \"00:42:19\", \\\n",
        "              \"Pop, Rock, R&B\", 46.0, 65, \"30-Nov-82\", None, 10.0]\n",
        "album_set = set(album_list)             \n",
        "album_set"
      ]
    },
    {
      "cell_type": "markdown",
      "metadata": {
        "id": "dpLPO_jy3kni"
      },
      "source": [
        "Now let us create a set of  genres:\n"
      ]
    },
    {
      "cell_type": "code",
      "execution_count": 3,
      "metadata": {
        "colab": {
          "base_uri": "https://localhost:8080/"
        },
        "id": "4YQI94dX3kni",
        "outputId": "ee893d85-ebe2-48b5-84d3-eccac2f9efd0"
      },
      "outputs": [
        {
          "output_type": "execute_result",
          "data": {
            "text/plain": [
              "{'R&B',\n",
              " 'disco',\n",
              " 'folk rock',\n",
              " 'hard rock',\n",
              " 'pop',\n",
              " 'progressive rock',\n",
              " 'rock',\n",
              " 'soft rock',\n",
              " 'soul'}"
            ]
          },
          "metadata": {},
          "execution_count": 3
        }
      ],
      "source": [
        "# Convert list to set\n",
        "\n",
        "music_genres = set([\"pop\", \"pop\", \"rock\", \"folk rock\", \"hard rock\", \"soul\", \\\n",
        "                    \"progressive rock\", \"soft rock\", \"R&B\", \"disco\"])\n",
        "music_genres"
      ]
    },
    {
      "cell_type": "markdown",
      "metadata": {
        "id": "-W21SPvS3knj"
      },
      "source": [
        "<h3 id=\"op\">Set Operations</h3> \n"
      ]
    },
    {
      "cell_type": "markdown",
      "metadata": {
        "id": "o8l2GQBQ3knj"
      },
      "source": [
        "Let us go over set operations, as these can be used to change the set. Consider the set <b>A</b>:\n"
      ]
    },
    {
      "cell_type": "code",
      "execution_count": 4,
      "metadata": {
        "colab": {
          "base_uri": "https://localhost:8080/"
        },
        "id": "OQpJyLWm3knj",
        "outputId": "71908402-440a-4461-f957-754a2ab81012"
      },
      "outputs": [
        {
          "output_type": "execute_result",
          "data": {
            "text/plain": [
              "{'AC/DC', 'Back in Black', 'Thriller'}"
            ]
          },
          "metadata": {},
          "execution_count": 4
        }
      ],
      "source": [
        "# Sample set\n",
        "\n",
        "A = set([\"Thriller\", \"Back in Black\", \"AC/DC\"])\n",
        "A"
      ]
    },
    {
      "cell_type": "markdown",
      "metadata": {
        "id": "LOVwdxtj3knk"
      },
      "source": [
        "We can add an element to a set using the <code>add()</code> method:\n"
      ]
    },
    {
      "cell_type": "code",
      "execution_count": 5,
      "metadata": {
        "colab": {
          "base_uri": "https://localhost:8080/"
        },
        "id": "JWmoiU4x3knk",
        "outputId": "749fb645-27e6-48bd-e946-c1e77b403ee4"
      },
      "outputs": [
        {
          "output_type": "execute_result",
          "data": {
            "text/plain": [
              "{'AC/DC', 'Back in Black', 'NSYNC', 'Thriller'}"
            ]
          },
          "metadata": {},
          "execution_count": 5
        }
      ],
      "source": [
        "# Add element to set\n",
        "\n",
        "A.add(\"NSYNC\")\n",
        "A"
      ]
    },
    {
      "cell_type": "markdown",
      "metadata": {
        "id": "_7iz0pPX3knk"
      },
      "source": [
        "If we add the same element twice, nothing will happen as there can be no duplicates in a set:\n"
      ]
    },
    {
      "cell_type": "code",
      "execution_count": 7,
      "metadata": {
        "colab": {
          "base_uri": "https://localhost:8080/"
        },
        "id": "PVkKJDKF3knl",
        "outputId": "a238710e-b14d-44b0-f165-de8bac4c03c4"
      },
      "outputs": [
        {
          "output_type": "execute_result",
          "data": {
            "text/plain": [
              "{'AC/DC', 'Back in Black', 'NSYNC', 'Thriller'}"
            ]
          },
          "metadata": {},
          "execution_count": 7
        }
      ],
      "source": [
        "# Try to add duplicate element to the set\n",
        "\n",
        "A.add(\"NSYNC\")\n",
        "A"
      ]
    },
    {
      "cell_type": "markdown",
      "metadata": {
        "id": "PyUKzAYO3knl"
      },
      "source": [
        "We can remove an item from a set using the <code>remove</code> method:\n"
      ]
    },
    {
      "cell_type": "code",
      "execution_count": 8,
      "metadata": {
        "colab": {
          "base_uri": "https://localhost:8080/"
        },
        "id": "zXbB1l963knm",
        "outputId": "ed130352-d5c5-427b-d1e8-8f9a6117bb3d"
      },
      "outputs": [
        {
          "output_type": "execute_result",
          "data": {
            "text/plain": [
              "{'AC/DC', 'Back in Black', 'Thriller'}"
            ]
          },
          "metadata": {},
          "execution_count": 8
        }
      ],
      "source": [
        "# Remove the element from set\n",
        "\n",
        "A.remove(\"NSYNC\")\n",
        "A"
      ]
    },
    {
      "cell_type": "markdown",
      "metadata": {
        "id": "O0zJ5JvH3knm"
      },
      "source": [
        "We can verify if an element is in the set using the <code>in</code> command:\n"
      ]
    },
    {
      "cell_type": "code",
      "execution_count": 9,
      "metadata": {
        "colab": {
          "base_uri": "https://localhost:8080/"
        },
        "id": "hwnbGX3p3knm",
        "outputId": "64134ee9-a986-4c6a-d0e0-302c4387ab63"
      },
      "outputs": [
        {
          "output_type": "execute_result",
          "data": {
            "text/plain": [
              "True"
            ]
          },
          "metadata": {},
          "execution_count": 9
        }
      ],
      "source": [
        "# Verify if the element is in the set\n",
        "\n",
        "\"AC/DC\" in A"
      ]
    },
    {
      "cell_type": "markdown",
      "metadata": {
        "id": "Yb5YaW9P3knn"
      },
      "source": [
        "<h3 id=\"logic\">Sets Logic Operations</h3>\n"
      ]
    },
    {
      "cell_type": "markdown",
      "metadata": {
        "id": "JGCnoTh43knn"
      },
      "source": [
        "Remember that with sets you can check the difference between sets, as well as the symmetric difference, intersection, and union:\n"
      ]
    },
    {
      "cell_type": "markdown",
      "metadata": {
        "id": "xUEOJe483knn"
      },
      "source": [
        "Consider the following two sets:\n"
      ]
    },
    {
      "cell_type": "code",
      "execution_count": 10,
      "metadata": {
        "id": "_LysxeNJ3knn"
      },
      "outputs": [],
      "source": [
        "# Sample Sets\n",
        "\n",
        "album_set1 = set([\"Thriller\", 'AC/DC', 'Back in Black'])\n",
        "album_set2 = set([ \"AC/DC\", \"Back in Black\", \"The Dark Side of the Moon\"])"
      ]
    },
    {
      "cell_type": "markdown",
      "metadata": {
        "id": "TkATbvxD3kno"
      },
      "source": [
        "<img src=\"https://cf-courses-data.s3.us.cloud-object-storage.appdomain.cloud/IBMDeveloperSkillsNetwork-PY0101EN-SkillsNetwork/labs/Module%202/images/SetsSamples.png\" width=\"650\" />\n"
      ]
    },
    {
      "cell_type": "code",
      "execution_count": 11,
      "metadata": {
        "scrolled": true,
        "colab": {
          "base_uri": "https://localhost:8080/"
        },
        "id": "GWTdCaIg3kno",
        "outputId": "5adc0d71-750c-4d7c-b756-afba30000976"
      },
      "outputs": [
        {
          "output_type": "execute_result",
          "data": {
            "text/plain": [
              "({'AC/DC', 'Back in Black', 'Thriller'},\n",
              " {'AC/DC', 'Back in Black', 'The Dark Side of the Moon'})"
            ]
          },
          "metadata": {},
          "execution_count": 11
        }
      ],
      "source": [
        "# Print two sets\n",
        "\n",
        "album_set1, album_set2"
      ]
    },
    {
      "cell_type": "markdown",
      "metadata": {
        "id": "7rIjWQ3C3kno"
      },
      "source": [
        "As both sets contain <b>AC/DC</b> and <b>Back in Black</b> we represent these common elements with the intersection of two circles.\n"
      ]
    },
    {
      "cell_type": "markdown",
      "metadata": {
        "id": "lZ0MPHoS3kno"
      },
      "source": [
        "<img src = \"https://cf-courses-data.s3.us.cloud-object-storage.appdomain.cloud/IBMDeveloperSkillsNetwork-PY0101EN-SkillsNetwork/labs/Module%202/images/SetsLogic.png\" width = \"650\" />\n"
      ]
    },
    {
      "cell_type": "markdown",
      "metadata": {
        "id": "Oil7oCZ63knp"
      },
      "source": [
        "You can find the intersect of two sets as follow using <code>&</code>:\n"
      ]
    },
    {
      "cell_type": "code",
      "execution_count": 12,
      "metadata": {
        "colab": {
          "base_uri": "https://localhost:8080/"
        },
        "id": "KRR8xKRO3knp",
        "outputId": "32d173b3-f8f8-4b6c-de27-aadd9624409b"
      },
      "outputs": [
        {
          "output_type": "execute_result",
          "data": {
            "text/plain": [
              "{'AC/DC', 'Back in Black'}"
            ]
          },
          "metadata": {},
          "execution_count": 12
        }
      ],
      "source": [
        "# Find the intersections\n",
        "\n",
        "intersection = album_set1 & album_set2\n",
        "intersection"
      ]
    },
    {
      "cell_type": "markdown",
      "metadata": {
        "id": "eiNdvSfE3knp"
      },
      "source": [
        "You can find all the elements that are only contained in <code>album_set1</code> using the <code>difference</code> method:\n"
      ]
    },
    {
      "cell_type": "code",
      "execution_count": 13,
      "metadata": {
        "colab": {
          "base_uri": "https://localhost:8080/"
        },
        "id": "bI9l0diB3knp",
        "outputId": "9070ba1d-31b6-4672-8956-c7bfc3cd5202"
      },
      "outputs": [
        {
          "output_type": "execute_result",
          "data": {
            "text/plain": [
              "{'Thriller'}"
            ]
          },
          "metadata": {},
          "execution_count": 13
        }
      ],
      "source": [
        "# Find the difference in set1 but not set2\n",
        "\n",
        "album_set1.difference(album_set2)  "
      ]
    },
    {
      "cell_type": "markdown",
      "metadata": {
        "id": "arXGPdDz3knp"
      },
      "source": [
        "You only need to consider elements in <code>album_set1</code>; all the elements in <code>album_set2</code>, including the intersection, are not included.\n"
      ]
    },
    {
      "cell_type": "markdown",
      "metadata": {
        "id": "FCJesOLM3knq"
      },
      "source": [
        "<img src=\"https://cf-courses-data.s3.us.cloud-object-storage.appdomain.cloud/IBMDeveloperSkillsNetwork-PY0101EN-SkillsNetwork/labs/Module%202/images/SetsLeft.png\" width=\"650\" />\n"
      ]
    },
    {
      "cell_type": "markdown",
      "metadata": {
        "id": "Qd_8o2L-3knq"
      },
      "source": [
        "The elements in <code>album_set2</code> but not in <code>album_set1</code> is given by:\n"
      ]
    },
    {
      "cell_type": "code",
      "execution_count": 14,
      "metadata": {
        "colab": {
          "base_uri": "https://localhost:8080/"
        },
        "id": "4Wgxl9dX3knq",
        "outputId": "379ff4f7-8350-4007-a6f2-c3383dba04cc"
      },
      "outputs": [
        {
          "output_type": "execute_result",
          "data": {
            "text/plain": [
              "{'The Dark Side of the Moon'}"
            ]
          },
          "metadata": {},
          "execution_count": 14
        }
      ],
      "source": [
        "album_set2.difference(album_set1)  "
      ]
    },
    {
      "cell_type": "markdown",
      "metadata": {
        "id": "0REEc4vx3knq"
      },
      "source": [
        "<img src = \"https://cf-courses-data.s3.us.cloud-object-storage.appdomain.cloud/IBMDeveloperSkillsNetwork-PY0101EN-SkillsNetwork/labs/Module%202/images/SetsRight.png\" width=\"650\" />\n"
      ]
    },
    {
      "cell_type": "markdown",
      "metadata": {
        "id": "E9Tf-5Sv3knq"
      },
      "source": [
        "You can also find the intersection of <code>album_list1</code> and <code>album_list2</code>, using the <code>intersection</code> method:\n"
      ]
    },
    {
      "cell_type": "code",
      "execution_count": 15,
      "metadata": {
        "colab": {
          "base_uri": "https://localhost:8080/"
        },
        "id": "RT0_i53S3knr",
        "outputId": "79812e69-f3fe-4fb1-da03-820e8ce1fed4"
      },
      "outputs": [
        {
          "output_type": "execute_result",
          "data": {
            "text/plain": [
              "{'AC/DC', 'Back in Black'}"
            ]
          },
          "metadata": {},
          "execution_count": 15
        }
      ],
      "source": [
        "# Use intersection method to find the intersection of album_list1 and album_list2\n",
        "\n",
        "album_set1.intersection(album_set2)   "
      ]
    },
    {
      "cell_type": "markdown",
      "metadata": {
        "id": "-Qa0fS5O3knr"
      },
      "source": [
        "This corresponds to the intersection of the two circles:\n"
      ]
    },
    {
      "cell_type": "markdown",
      "metadata": {
        "id": "hAvBMIG43knr"
      },
      "source": [
        "<img src=\"https://cf-courses-data.s3.us.cloud-object-storage.appdomain.cloud/IBMDeveloperSkillsNetwork-PY0101EN-SkillsNetwork/labs/Module%202/images/SetsIntersect.png\" width=\"650\" />\n"
      ]
    },
    {
      "cell_type": "markdown",
      "metadata": {
        "id": "ssXiC7jh3knr"
      },
      "source": [
        "The union corresponds to all the elements in both sets, which is represented by coloring both circles:\n"
      ]
    },
    {
      "cell_type": "markdown",
      "metadata": {
        "id": "k8MHzrI23knr"
      },
      "source": [
        "<img src = \"https://cf-courses-data.s3.us.cloud-object-storage.appdomain.cloud/IBMDeveloperSkillsNetwork-PY0101EN-SkillsNetwork/labs/Module%202/images/SetsUnion.png\" width=\"650\" />\n"
      ]
    },
    {
      "cell_type": "markdown",
      "metadata": {
        "id": "61U12o1K3kns"
      },
      "source": [
        "The union is given by:\n"
      ]
    },
    {
      "cell_type": "code",
      "execution_count": 16,
      "metadata": {
        "collapsed": true,
        "colab": {
          "base_uri": "https://localhost:8080/"
        },
        "id": "AcnfCczB3kns",
        "outputId": "f8379e50-8772-40d2-f1a4-0f55059f6f2b"
      },
      "outputs": [
        {
          "output_type": "execute_result",
          "data": {
            "text/plain": [
              "{'AC/DC', 'Back in Black', 'The Dark Side of the Moon', 'Thriller'}"
            ]
          },
          "metadata": {},
          "execution_count": 16
        }
      ],
      "source": [
        "# Find the union of two sets\n",
        "\n",
        "album_set1.union(album_set2)"
      ]
    },
    {
      "cell_type": "markdown",
      "metadata": {
        "id": "H5B8kfDw3kns"
      },
      "source": [
        "And you can check if a set is a superset or subset of another set, respectively, like this:\n"
      ]
    },
    {
      "cell_type": "code",
      "execution_count": 17,
      "metadata": {
        "colab": {
          "base_uri": "https://localhost:8080/"
        },
        "id": "OhPrpYi13kns",
        "outputId": "9d048756-c107-435b-d7ae-cdff0a6a8867"
      },
      "outputs": [
        {
          "output_type": "execute_result",
          "data": {
            "text/plain": [
              "False"
            ]
          },
          "metadata": {},
          "execution_count": 17
        }
      ],
      "source": [
        "# Check if superset\n",
        "\n",
        "set(album_set1).issuperset(album_set2)   "
      ]
    },
    {
      "cell_type": "code",
      "execution_count": 18,
      "metadata": {
        "colab": {
          "base_uri": "https://localhost:8080/"
        },
        "id": "8HSaDRx43kns",
        "outputId": "1fce5759-65a0-456f-9e32-04d56a143161"
      },
      "outputs": [
        {
          "output_type": "execute_result",
          "data": {
            "text/plain": [
              "False"
            ]
          },
          "metadata": {},
          "execution_count": 18
        }
      ],
      "source": [
        "# Check if subset\n",
        "\n",
        "set(album_set2).issubset(album_set1)     "
      ]
    },
    {
      "cell_type": "markdown",
      "metadata": {
        "id": "0DFpY1Qk3knt"
      },
      "source": [
        "Here is an example where <code>issubset()</code> and <code>issuperset()</code> return true:\n"
      ]
    },
    {
      "cell_type": "code",
      "execution_count": 19,
      "metadata": {
        "colab": {
          "base_uri": "https://localhost:8080/"
        },
        "id": "mxHfLz5Y3knt",
        "outputId": "3536e2f1-05e7-4f41-caf5-7614ae0176cc"
      },
      "outputs": [
        {
          "output_type": "execute_result",
          "data": {
            "text/plain": [
              "True"
            ]
          },
          "metadata": {},
          "execution_count": 19
        }
      ],
      "source": [
        "# Check if subset\n",
        "\n",
        "set({\"Back in Black\", \"AC/DC\"}).issubset(album_set1) "
      ]
    },
    {
      "cell_type": "code",
      "execution_count": 20,
      "metadata": {
        "colab": {
          "base_uri": "https://localhost:8080/"
        },
        "id": "7WHtRC4f3knt",
        "outputId": "fe650913-ac89-490a-d80a-8fbd4ea2f4be"
      },
      "outputs": [
        {
          "output_type": "execute_result",
          "data": {
            "text/plain": [
              "True"
            ]
          },
          "metadata": {},
          "execution_count": 20
        }
      ],
      "source": [
        "# Check if superset\n",
        "\n",
        "album_set1.issuperset({\"Back in Black\", \"AC/DC\"})   "
      ]
    },
    {
      "cell_type": "markdown",
      "metadata": {
        "id": "M04eHe2F3knt"
      },
      "source": [
        "<hr>\n"
      ]
    },
    {
      "cell_type": "markdown",
      "metadata": {
        "id": "iR-h_yNP3knt"
      },
      "source": [
        "<h2 id=\"quiz\">Quiz on Sets</h2>\n"
      ]
    },
    {
      "cell_type": "markdown",
      "metadata": {
        "id": "vUTgi2V73knu"
      },
      "source": [
        "Convert the list <code>\\['rap','house','electronic music', 'rap']</code> to a set:\n"
      ]
    },
    {
      "cell_type": "code",
      "execution_count": 21,
      "metadata": {
        "colab": {
          "base_uri": "https://localhost:8080/"
        },
        "id": "1fTAZO1l3knu",
        "outputId": "fc21d01a-06a5-46b3-93a9-3d12be782941"
      },
      "outputs": [
        {
          "output_type": "execute_result",
          "data": {
            "text/plain": [
              "{'electronic music', 'house', 'rap'}"
            ]
          },
          "metadata": {},
          "execution_count": 21
        }
      ],
      "source": [
        "# Write your code below and press Shift+Enter to execute\n",
        "ldata = ['rap','house','electronic music', 'rap']\n",
        "sdata = set(ldata)\n",
        "sdata"
      ]
    },
    {
      "cell_type": "markdown",
      "metadata": {
        "id": "kPQ2gOhZ3knu"
      },
      "source": [
        "<details><summary>Click here for the solution</summary>\n",
        "\n",
        "```python\n",
        "set(['rap','house','electronic music','rap'])\n",
        "\n",
        "```\n",
        "\n",
        "</details>\n"
      ]
    },
    {
      "cell_type": "markdown",
      "metadata": {
        "id": "aQk6xjyf3knv"
      },
      "source": [
        "<hr>\n"
      ]
    },
    {
      "cell_type": "markdown",
      "metadata": {
        "id": "DyAlRQ8E3knv"
      },
      "source": [
        "Consider the list <code>A = \\[1, 2, 2, 1]</code> and set <code>B = set(\\[1, 2, 2, 1])</code>, does <code>sum(A) == sum(B)</code>?\n"
      ]
    },
    {
      "cell_type": "code",
      "execution_count": 22,
      "metadata": {
        "colab": {
          "base_uri": "https://localhost:8080/"
        },
        "id": "b2jaAHHu3knv",
        "outputId": "01c86ae2-2e52-4835-cb0a-b65c93b0143d"
      },
      "outputs": [
        {
          "output_type": "stream",
          "name": "stdout",
          "text": [
            "the sum of A is: 6\n",
            "the sum of B is: 3\n"
          ]
        }
      ],
      "source": [
        "# Write your code below and press Shift+Enter to execute\n",
        "A = [1, 2, 2, 1]\n",
        "B = set([1, 2, 2, 1])\n",
        "print(\"the sum of A is:\", sum(A))\n",
        "print(\"the sum of B is:\", sum(B))"
      ]
    },
    {
      "cell_type": "markdown",
      "metadata": {
        "id": "XHbqA4S73knv"
      },
      "source": [
        "<details><summary>Click here for the solution</summary>\n",
        "\n",
        "```python\n",
        "A = [1, 2, 2, 1]  \n",
        "B = set([1, 2, 2, 1])\n",
        "print(\"the sum of A is:\", sum(A))\n",
        "print(\"the sum of B is:\", sum(B))\n",
        "\n",
        "```\n",
        "\n",
        "</details>\n"
      ]
    },
    {
      "cell_type": "markdown",
      "metadata": {
        "id": "Jc0HX7lH3knv"
      },
      "source": [
        "<hr>\n"
      ]
    },
    {
      "cell_type": "markdown",
      "metadata": {
        "id": "XMxPLwl43knv"
      },
      "source": [
        "Create a new set <code>album_set3</code> that is the union of <code>album_set1</code> and <code>album_set2</code>:\n"
      ]
    },
    {
      "cell_type": "code",
      "execution_count": 25,
      "metadata": {
        "colab": {
          "base_uri": "https://localhost:8080/"
        },
        "id": "Canr8-gI3knw",
        "outputId": "7635c791-158a-40a2-d842-f5033a8da2d4"
      },
      "outputs": [
        {
          "output_type": "execute_result",
          "data": {
            "text/plain": [
              "{'AC/DC', 'Back in Black', 'The Dark Side of the Moon', 'Thriller'}"
            ]
          },
          "metadata": {},
          "execution_count": 25
        }
      ],
      "source": [
        "# Write your code below and press Shift+Enter to execute\n",
        "\n",
        "album_set1 = set([\"Thriller\", 'AC/DC', 'Back in Black'])\n",
        "album_set2 = set([ \"AC/DC\", \"Back in Black\", \"The Dark Side of the Moon\"])\n",
        "album_set3 = album_set1.union(album_set2)\n",
        "album_set3"
      ]
    },
    {
      "cell_type": "markdown",
      "metadata": {
        "id": "JtV5hBQG3knw"
      },
      "source": [
        "<details><summary>Click here for the solution</summary>\n",
        "\n",
        "```python\n",
        "album_set3 = album_set1.union(album_set2)\n",
        "album_set3\n",
        "\n",
        "```\n",
        "\n",
        "</details>\n"
      ]
    },
    {
      "cell_type": "markdown",
      "metadata": {
        "id": "0VBJYEiz3knw"
      },
      "source": [
        "<hr>\n"
      ]
    },
    {
      "cell_type": "markdown",
      "metadata": {
        "id": "fr51Zwwp3knw"
      },
      "source": [
        "Find out if <code>album_set1</code> is a subset of <code>album_set3</code>:\n"
      ]
    },
    {
      "cell_type": "code",
      "execution_count": 26,
      "metadata": {
        "colab": {
          "base_uri": "https://localhost:8080/"
        },
        "id": "mcNzPOOl3knw",
        "outputId": "1d2081fe-fd20-4b67-f4f4-ff920d4054ae"
      },
      "outputs": [
        {
          "output_type": "execute_result",
          "data": {
            "text/plain": [
              "True"
            ]
          },
          "metadata": {},
          "execution_count": 26
        }
      ],
      "source": [
        "# Write your code below and press Shift+Enter to execute\n",
        "album_set1.issubset(album_set3)"
      ]
    },
    {
      "cell_type": "markdown",
      "metadata": {
        "id": "07nezg5g3knx"
      },
      "source": [
        "<details><summary>Click here for the solution</summary>\n",
        "\n",
        "```python\n",
        "album_set1.issubset(album_set3)\n",
        "\n",
        "```\n",
        "\n",
        "</details>\n"
      ]
    }
  ],
  "metadata": {
    "kernelspec": {
      "display_name": "Python 3",
      "language": "python",
      "name": "python3"
    },
    "language_info": {
      "codemirror_mode": {
        "name": "ipython",
        "version": 3
      },
      "file_extension": ".py",
      "mimetype": "text/x-python",
      "name": "python",
      "nbconvert_exporter": "python",
      "pygments_lexer": "ipython3",
      "version": "3.7.6"
    },
    "colab": {
      "name": "Sets_Python.ipynb",
      "provenance": [],
      "collapsed_sections": [],
      "include_colab_link": true
    }
  },
  "nbformat": 4,
  "nbformat_minor": 0
}
