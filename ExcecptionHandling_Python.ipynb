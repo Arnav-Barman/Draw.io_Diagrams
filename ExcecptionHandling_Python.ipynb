{
  "cells": [
    {
      "cell_type": "markdown",
      "metadata": {
        "id": "view-in-github",
        "colab_type": "text"
      },
      "source": [
        "<a href=\"https://colab.research.google.com/github/Arnav-Barman/LearningPython/blob/main/ExcecptionHandling_Python.ipynb\" target=\"_parent\"><img src=\"https://colab.research.google.com/assets/colab-badge.svg\" alt=\"Open In Colab\"/></a>"
      ]
    },
    {
      "cell_type": "markdown",
      "metadata": {
        "id": "yX8HgBTyRsD4"
      },
      "source": [
        "# **Exception Handling**\n",
        "\n",
        "Estimated time needed: **15** minutes\n",
        "\n",
        "## Objectives\n",
        "\n",
        "After completing this lab you will be able to:\n",
        "\n",
        "*   Understand exceptions\n",
        "*   Handle the exceptions\n"
      ]
    },
    {
      "cell_type": "markdown",
      "metadata": {
        "id": "q7Wz3VblRsD7"
      },
      "source": [
        "***\n"
      ]
    },
    {
      "cell_type": "markdown",
      "metadata": {
        "id": "3aUbe5vERsD7"
      },
      "source": [
        "## What is an Exception?\n"
      ]
    },
    {
      "cell_type": "markdown",
      "metadata": {
        "id": "43c2qaGARsD8"
      },
      "source": [
        "In this section you will learn about what an exception is and see examples of them.\n"
      ]
    },
    {
      "cell_type": "markdown",
      "metadata": {
        "id": "iWUyGPJkRsD8"
      },
      "source": [
        "### Definition\n"
      ]
    },
    {
      "cell_type": "markdown",
      "metadata": {
        "id": "e9iBr8DMRsD8"
      },
      "source": [
        "An exception is an error that occurs during the execution of code. This error causes the code to raise an exception and if not prepared to handle it will halt the execution of the code.\n"
      ]
    },
    {
      "cell_type": "markdown",
      "metadata": {
        "id": "DpiGcFH6RsD-"
      },
      "source": [
        "### Examples\n"
      ]
    },
    {
      "cell_type": "markdown",
      "metadata": {
        "id": "0JsoHxgGRsD_"
      },
      "source": [
        "Run each piece of code and observe the exception raised\n"
      ]
    },
    {
      "cell_type": "code",
      "execution_count": 1,
      "metadata": {
        "colab": {
          "base_uri": "https://localhost:8080/",
          "height": 166
        },
        "id": "RWC6i-HZRsEA",
        "outputId": "907d273e-e6f2-49b0-8fc4-92ad8284bf93"
      },
      "outputs": [
        {
          "output_type": "error",
          "ename": "ZeroDivisionError",
          "evalue": "ignored",
          "traceback": [
            "\u001b[0;31m---------------------------------------------------------------------------\u001b[0m",
            "\u001b[0;31mZeroDivisionError\u001b[0m                         Traceback (most recent call last)",
            "\u001b[0;32m<ipython-input-1-9e1622b385b6>\u001b[0m in \u001b[0;36m<module>\u001b[0;34m()\u001b[0m\n\u001b[0;32m----> 1\u001b[0;31m \u001b[0;36m1\u001b[0m\u001b[0;34m/\u001b[0m\u001b[0;36m0\u001b[0m\u001b[0;34m\u001b[0m\u001b[0;34m\u001b[0m\u001b[0m\n\u001b[0m",
            "\u001b[0;31mZeroDivisionError\u001b[0m: division by zero"
          ]
        }
      ],
      "source": [
        "1/0"
      ]
    },
    {
      "cell_type": "markdown",
      "metadata": {
        "id": "q5xTSet5RsEC"
      },
      "source": [
        "<code>ZeroDivisionError</code> occurs when you try to divide by zero.\n"
      ]
    },
    {
      "cell_type": "code",
      "execution_count": null,
      "metadata": {
        "id": "twRqoMqnRsED"
      },
      "outputs": [],
      "source": [
        "y = a + 5"
      ]
    },
    {
      "cell_type": "markdown",
      "metadata": {
        "id": "TXaCU_e1RsED"
      },
      "source": [
        "<code>NameError</code> -- in this case, it means that you tried to use the variable a when it was not defined.\n"
      ]
    },
    {
      "cell_type": "code",
      "execution_count": null,
      "metadata": {
        "id": "H7S_TDAuRsEE"
      },
      "outputs": [],
      "source": [
        "a = [1, 2, 3]\n",
        "a[10]"
      ]
    },
    {
      "cell_type": "markdown",
      "metadata": {
        "id": "c8dNxvR1RsEE"
      },
      "source": [
        "<code>IndexError</code> -- in this case, it occured because you tried to access data from a list using an index that does not exist for this list.\n"
      ]
    },
    {
      "cell_type": "markdown",
      "metadata": {
        "id": "2xR2GGG-RsEE"
      },
      "source": [
        "There are many more exceptions that are built into Python, here is a list of them [https://docs.python.org/3/library/exceptions.html](https://docs.python.org/3/library/exceptions.html?utm_medium=Exinfluencer&utm_source=Exinfluencer&utm_content=000026UJ&utm_term=10006555&utm_id=NA-SkillsNetwork-Channel-SkillsNetworkCoursesIBMDeveloperSkillsNetworkPY0101ENSkillsNetwork19487395-2021-01-01)\n"
      ]
    },
    {
      "cell_type": "markdown",
      "metadata": {
        "id": "OSvr1CIyRsEF"
      },
      "source": [
        "## Exception Handling\n"
      ]
    },
    {
      "cell_type": "markdown",
      "metadata": {
        "id": "Ycb6a_pvRsEG"
      },
      "source": [
        "In this section you will learn how to handle exceptions. You will understand how to make your program perform specified tasks instead of halting code execution when an exception is encountered.\n"
      ]
    },
    {
      "cell_type": "markdown",
      "metadata": {
        "id": "syaVnpaJRsEG"
      },
      "source": [
        "### Try Except\n"
      ]
    },
    {
      "cell_type": "markdown",
      "metadata": {
        "id": "GzvKf8Q-RsEG"
      },
      "source": [
        "A <code>try except</code> will allow you to execute code that might raise an exception and in the case of any exception or a specific one we can handle or catch the exception and execute specific code. This will allow us to continue the execution of our program even if there is an exception.\n",
        "\n",
        "Python tries to execute the code in the <code>try</code> block. In this case if there is any exception raised by the code in the <code>try</code> block, it will be caught and the code block in the <code>except</code> block will be executed. After that, the code that comes <em>after</em> the try except will be executed.\n"
      ]
    },
    {
      "cell_type": "code",
      "execution_count": null,
      "metadata": {
        "id": "ocVlBleIRsEH"
      },
      "outputs": [],
      "source": [
        "# potential code before try catch\n",
        "\n",
        "try:\n",
        "    # code to try to execute\n",
        "except:\n",
        "    # code to execute if there is an exception\n",
        "    \n",
        "# code that will still execute if there is an exception"
      ]
    },
    {
      "cell_type": "markdown",
      "metadata": {
        "id": "ukRirGHmRsEH"
      },
      "source": [
        "### Try Except Example\n"
      ]
    },
    {
      "cell_type": "markdown",
      "metadata": {
        "id": "KJpzMMpZRsEI"
      },
      "source": [
        "In this example we are trying to divide a number given by the user, save the outcome in the variable <code>a</code>, and then we would like to print the result of the operation. When taking user input and dividing a number by it there are a couple of exceptions that can be raised. For example if we divide by zero. Try running the following block of code with <code>b</code> as a number. An exception will only be raised if <code>b</code> is zero.\n"
      ]
    },
    {
      "cell_type": "code",
      "execution_count": 2,
      "metadata": {
        "colab": {
          "base_uri": "https://localhost:8080/"
        },
        "id": "CdYkFZgQRsEI",
        "outputId": "d9bba1fa-6668-4bc1-de33-780bf64bee14"
      },
      "outputs": [
        {
          "output_type": "stream",
          "name": "stdout",
          "text": [
            "Please enter a number to divide a5\n",
            "Success a= 0.2\n"
          ]
        }
      ],
      "source": [
        "a = 1\n",
        "\n",
        "try:\n",
        "    b = int(input(\"Please enter a number to divide a\"))\n",
        "    a = a/b\n",
        "    print(\"Success a=\",a)\n",
        "except:\n",
        "    print(\"There was an error\")\n",
        "        \n"
      ]
    },
    {
      "cell_type": "markdown",
      "metadata": {
        "id": "KiJlXMEqRsEJ"
      },
      "source": [
        "### Try Except Specific\n"
      ]
    },
    {
      "cell_type": "markdown",
      "metadata": {
        "id": "dBNREqBwRsEJ"
      },
      "source": [
        "A specific <code>try except</code> allows you to catch certain exceptions and also execute certain code depending on the exception. This is useful if you do not want to deal with some exceptions and the execution should halt. It can also help you find errors in your code that you might not be aware of. Furthermore, it can help you differentiate responses to different exceptions. In this case, the code after the try except might not run depending on the error.\n"
      ]
    },
    {
      "cell_type": "markdown",
      "metadata": {
        "id": "hfBe7UItRsEK"
      },
      "source": [
        "<b>Do not run, just to illustrate:</b>\n"
      ]
    },
    {
      "cell_type": "code",
      "execution_count": null,
      "metadata": {
        "id": "PqRpCVC8RsEL"
      },
      "outputs": [],
      "source": [
        "# potential code before try catch\n",
        "\n",
        "try:\n",
        "    # code to try to execute\n",
        "except (ZeroDivisionError, NameError):\n",
        "    # code to execute if there is an exception of the given types\n",
        "    \n",
        "# code that will execute if there is no exception or a one that we are handling"
      ]
    },
    {
      "cell_type": "code",
      "execution_count": null,
      "metadata": {
        "id": "mzGwT0abRsEM"
      },
      "outputs": [],
      "source": [
        "# potential code before try catch\n",
        "\n",
        "try:\n",
        "    # code to try to execute\n",
        "except ZeroDivisionError:\n",
        "    # code to execute if there is a ZeroDivisionError\n",
        "except NameError:\n",
        "    # code to execute if there is a NameError\n",
        "    \n",
        "# code that will execute if there is no exception or a one that we are handling"
      ]
    },
    {
      "cell_type": "markdown",
      "metadata": {
        "id": "MVJImOVnRsEN"
      },
      "source": [
        "You can also have an empty <code>except</code> at the end to catch an unexpected exception:\n"
      ]
    },
    {
      "cell_type": "markdown",
      "metadata": {
        "id": "tRDkbPsDRsEN"
      },
      "source": [
        "<b>Do not run, just to illustrate:</b>\n"
      ]
    },
    {
      "cell_type": "code",
      "execution_count": null,
      "metadata": {
        "id": "G-j07gHARsEN"
      },
      "outputs": [],
      "source": [
        "# potential code before try catch\n",
        "\n",
        "try:\n",
        "    # code to try to execute\n",
        "except ZeroDivisionError:\n",
        "    # code to execute if there is a ZeroDivisionError\n",
        "except NameError:\n",
        "    # code to execute if there is a NameError\n",
        "except:\n",
        "    # code to execute if ther is any exception\n",
        "    \n",
        "# code that will execute if there is no exception or a one that we are handling"
      ]
    },
    {
      "cell_type": "markdown",
      "metadata": {
        "id": "XSZLYjjIRsEO"
      },
      "source": [
        "### Try Except Specific Example\n"
      ]
    },
    {
      "cell_type": "markdown",
      "metadata": {
        "id": "9sDxTPTNRsEO"
      },
      "source": [
        "This is the same example as above, but now we will add differentiated messages depending on the exception, letting the user know what is wrong with the input.\n"
      ]
    },
    {
      "cell_type": "code",
      "execution_count": 7,
      "metadata": {
        "colab": {
          "base_uri": "https://localhost:8080/"
        },
        "id": "zVEPCZhYRsEP",
        "outputId": "3103575b-4bcf-4347-8989-c3dc3f09e408"
      },
      "outputs": [
        {
          "output_type": "stream",
          "name": "stdout",
          "text": [
            "Please enter a number to divide a.\n",
            "You did not provide a number\n"
          ]
        }
      ],
      "source": [
        "a = 1\n",
        "\n",
        "try:\n",
        "    b = int(input(\"Please enter a number to divide a\"))\n",
        "    a = a/b\n",
        "    print(\"Success a=\",a)\n",
        "except ZeroDivisionError:\n",
        "    print(\"The number you provided cant divide 1 because it is 0\")\n",
        "except ValueError:\n",
        "    print(\"You did not provide a number\")\n",
        "except:\n",
        "    print(\"Something went wrong\")\n",
        "        \n"
      ]
    },
    {
      "cell_type": "markdown",
      "metadata": {
        "id": "_Yz-XJQxRsEP"
      },
      "source": [
        "### Try Except Else and Finally\n"
      ]
    },
    {
      "cell_type": "markdown",
      "metadata": {
        "id": "YZbEtdS9RsEQ"
      },
      "source": [
        "<code>else</code> allows one to check if there was no exception when executing the try block. This is useful when we want to execute something only if there were no errors.\n"
      ]
    },
    {
      "cell_type": "markdown",
      "metadata": {
        "id": "XTqGtalrRsEQ"
      },
      "source": [
        "<b>do not run, just to illustrate</b>\n"
      ]
    },
    {
      "cell_type": "code",
      "execution_count": null,
      "metadata": {
        "id": "54UotExbRsER"
      },
      "outputs": [],
      "source": [
        "# potential code before try catch\n",
        "\n",
        "try:\n",
        "    # code to try to execute\n",
        "except ZeroDivisionError:\n",
        "    # code to execute if there is a ZeroDivisionError\n",
        "except NameError:\n",
        "    # code to execute if there is a NameError\n",
        "except:\n",
        "    # code to execute if ther is any exception\n",
        "else:\n",
        "    # code to execute if there is no exception\n",
        "    \n",
        "# code that will execute if there is no exception or a one that we are handling"
      ]
    },
    {
      "cell_type": "markdown",
      "metadata": {
        "id": "AUKGNJiORsER"
      },
      "source": [
        "<code>finally</code> allows us to always execute something even if there is an exception or not. This is usually used to signify the end of the try except.\n"
      ]
    },
    {
      "cell_type": "code",
      "execution_count": null,
      "metadata": {
        "id": "J58xSVNVRsES"
      },
      "outputs": [],
      "source": [
        "# potential code before try catch\n",
        "\n",
        "try:\n",
        "    # code to try to execute\n",
        "except ZeroDivisionError:\n",
        "    # code to execute if there is a ZeroDivisionError\n",
        "except NameError:\n",
        "    # code to execute if there is a NameError\n",
        "except:\n",
        "    # code to execute if ther is any exception\n",
        "else:\n",
        "    # code to execute if there is no exception\n",
        "finally:\n",
        "    # code to execute at the end of the try except no matter what\n",
        "    \n",
        "# code that will execute if there is no exception or a one that we are handling"
      ]
    },
    {
      "cell_type": "markdown",
      "metadata": {
        "id": "76yyR8lXRsES"
      },
      "source": [
        "### Try Except Else and Finally Example\n"
      ]
    },
    {
      "cell_type": "markdown",
      "metadata": {
        "id": "h0rkLVPSRsES"
      },
      "source": [
        "You might have noticed that even if there is an error the value of <code>a</code> is always printed. Let's use the <code>else</code> and print the value of <code>a</code> only if there is no error.\n"
      ]
    },
    {
      "cell_type": "code",
      "execution_count": 8,
      "metadata": {
        "colab": {
          "base_uri": "https://localhost:8080/"
        },
        "id": "tBLUjvXuRsET",
        "outputId": "39972a13-822b-493a-bb33-37347c602c78"
      },
      "outputs": [
        {
          "output_type": "stream",
          "name": "stdout",
          "text": [
            "Please enter a number to divide a5\n",
            "success a= 0.2\n"
          ]
        }
      ],
      "source": [
        "a = 1\n",
        "\n",
        "try:\n",
        "    b = int(input(\"Please enter a number to divide a\"))\n",
        "    a = a/b\n",
        "except ZeroDivisionError:\n",
        "    print(\"The number you provided cant divide 1 because it is 0\")\n",
        "except ValueError:\n",
        "    print(\"You did not provide a number\")\n",
        "except:\n",
        "    print(\"Something went wrong\")\n",
        "else:\n",
        "    print(\"success a=\",a)"
      ]
    },
    {
      "cell_type": "markdown",
      "metadata": {
        "id": "cqMqn3MvRsET"
      },
      "source": [
        "Now lets let the user know that we are done processing their answer. Using the <code>finally</code>, let's add a print.\n"
      ]
    },
    {
      "cell_type": "code",
      "execution_count": 10,
      "metadata": {
        "colab": {
          "base_uri": "https://localhost:8080/"
        },
        "id": "tJOeAL90RsEU",
        "outputId": "03256cb6-9e16-49a0-d48b-560ec60d9e4d"
      },
      "outputs": [
        {
          "output_type": "stream",
          "name": "stdout",
          "text": [
            "Please enter a number to divide a3\n",
            "success a= 0.3333333333333333\n",
            "Processing Complete\n"
          ]
        }
      ],
      "source": [
        "a = 1\n",
        "\n",
        "try:\n",
        "    b = int(input(\"Please enter a number to divide a\"))\n",
        "    a = a/b\n",
        "except ZeroDivisionError:\n",
        "    print(\"The number you provided cant divide 1 because it is 0\")\n",
        "except ValueError:\n",
        "    print(\"You did not provide a number\")\n",
        "except:\n",
        "    print(\"Something went wrong\")\n",
        "else:\n",
        "    print(\"success a=\",a)\n",
        "finally:\n",
        "    print(\"Processing Complete\")"
      ]
    }
  ],
  "metadata": {
    "kernelspec": {
      "display_name": "Python 3",
      "language": "python",
      "name": "python3"
    },
    "language_info": {
      "codemirror_mode": {
        "name": "ipython",
        "version": 3
      },
      "file_extension": ".py",
      "mimetype": "text/x-python",
      "name": "python",
      "nbconvert_exporter": "python",
      "pygments_lexer": "ipython3",
      "version": "3.7.6"
    },
    "colab": {
      "name": "ExcecptionHandling_Python.ipynb",
      "provenance": [],
      "collapsed_sections": [],
      "include_colab_link": true
    }
  },
  "nbformat": 4,
  "nbformat_minor": 0
}